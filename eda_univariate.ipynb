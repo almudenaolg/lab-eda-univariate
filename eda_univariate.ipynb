{
 "cells": [
  {
   "cell_type": "markdown",
   "metadata": {},
   "source": [
    "## EDA Univariate Analysis: Diving into Amazon UK Product Insights"
   ]
  },
  {
   "cell_type": "markdown",
   "metadata": {},
   "source": [
    "### Part 0: Loaad the dataset"
   ]
  },
  {
   "cell_type": "markdown",
   "metadata": {},
   "source": [
    "Load the information to a dataframe, import the necessary libraries and other necessary configurations to get started."
   ]
  },
  {
   "cell_type": "code",
   "execution_count": 8,
   "metadata": {},
   "outputs": [],
   "source": [
    "import pandas as pd\n",
    "import numpy as np\n",
    "import matplotlib.pyplot as plt\n",
    "import seaborn as sns\n",
    "import os\n",
    "from kaggle.api.kaggle_api_extended import KaggleApi"
   ]
  },
  {
   "cell_type": "code",
   "execution_count": 9,
   "metadata": {},
   "outputs": [
    {
     "name": "stdout",
     "output_type": "stream",
     "text": [
      "Dataset URL: https://www.kaggle.com/datasets/asaniczka/uk-optimal-product-price-prediction\n"
     ]
    },
    {
     "data": {
      "text/html": [
       "<div>\n",
       "<style scoped>\n",
       "    .dataframe tbody tr th:only-of-type {\n",
       "        vertical-align: middle;\n",
       "    }\n",
       "\n",
       "    .dataframe tbody tr th {\n",
       "        vertical-align: top;\n",
       "    }\n",
       "\n",
       "    .dataframe thead th {\n",
       "        text-align: right;\n",
       "    }\n",
       "</style>\n",
       "<table border=\"1\" class=\"dataframe\">\n",
       "  <thead>\n",
       "    <tr style=\"text-align: right;\">\n",
       "      <th></th>\n",
       "      <th>uid</th>\n",
       "      <th>asin</th>\n",
       "      <th>title</th>\n",
       "      <th>stars</th>\n",
       "      <th>reviews</th>\n",
       "      <th>price</th>\n",
       "      <th>isBestSeller</th>\n",
       "      <th>boughtInLastMonth</th>\n",
       "      <th>category</th>\n",
       "    </tr>\n",
       "  </thead>\n",
       "  <tbody>\n",
       "    <tr>\n",
       "      <th>0</th>\n",
       "      <td>1</td>\n",
       "      <td>B09B96TG33</td>\n",
       "      <td>Echo Dot (5th generation, 2022 release) | Big ...</td>\n",
       "      <td>4.7</td>\n",
       "      <td>15308</td>\n",
       "      <td>21.99</td>\n",
       "      <td>False</td>\n",
       "      <td>0</td>\n",
       "      <td>Hi-Fi Speakers</td>\n",
       "    </tr>\n",
       "    <tr>\n",
       "      <th>1</th>\n",
       "      <td>2</td>\n",
       "      <td>B01HTH3C8S</td>\n",
       "      <td>Anker Soundcore mini, Super-Portable Bluetooth...</td>\n",
       "      <td>4.7</td>\n",
       "      <td>98099</td>\n",
       "      <td>23.99</td>\n",
       "      <td>True</td>\n",
       "      <td>0</td>\n",
       "      <td>Hi-Fi Speakers</td>\n",
       "    </tr>\n",
       "    <tr>\n",
       "      <th>2</th>\n",
       "      <td>3</td>\n",
       "      <td>B09B8YWXDF</td>\n",
       "      <td>Echo Dot (5th generation, 2022 release) | Big ...</td>\n",
       "      <td>4.7</td>\n",
       "      <td>15308</td>\n",
       "      <td>21.99</td>\n",
       "      <td>False</td>\n",
       "      <td>0</td>\n",
       "      <td>Hi-Fi Speakers</td>\n",
       "    </tr>\n",
       "    <tr>\n",
       "      <th>3</th>\n",
       "      <td>4</td>\n",
       "      <td>B09B8T5VGV</td>\n",
       "      <td>Echo Dot with clock (5th generation, 2022 rele...</td>\n",
       "      <td>4.7</td>\n",
       "      <td>7205</td>\n",
       "      <td>31.99</td>\n",
       "      <td>False</td>\n",
       "      <td>0</td>\n",
       "      <td>Hi-Fi Speakers</td>\n",
       "    </tr>\n",
       "    <tr>\n",
       "      <th>4</th>\n",
       "      <td>5</td>\n",
       "      <td>B09WX6QD65</td>\n",
       "      <td>Introducing Echo Pop | Full sound compact Wi-F...</td>\n",
       "      <td>4.6</td>\n",
       "      <td>1881</td>\n",
       "      <td>17.99</td>\n",
       "      <td>False</td>\n",
       "      <td>0</td>\n",
       "      <td>Hi-Fi Speakers</td>\n",
       "    </tr>\n",
       "  </tbody>\n",
       "</table>\n",
       "</div>"
      ],
      "text/plain": [
       "   uid        asin                                              title  stars  \\\n",
       "0    1  B09B96TG33  Echo Dot (5th generation, 2022 release) | Big ...    4.7   \n",
       "1    2  B01HTH3C8S  Anker Soundcore mini, Super-Portable Bluetooth...    4.7   \n",
       "2    3  B09B8YWXDF  Echo Dot (5th generation, 2022 release) | Big ...    4.7   \n",
       "3    4  B09B8T5VGV  Echo Dot with clock (5th generation, 2022 rele...    4.7   \n",
       "4    5  B09WX6QD65  Introducing Echo Pop | Full sound compact Wi-F...    4.6   \n",
       "\n",
       "   reviews  price  isBestSeller  boughtInLastMonth        category  \n",
       "0    15308  21.99         False                  0  Hi-Fi Speakers  \n",
       "1    98099  23.99          True                  0  Hi-Fi Speakers  \n",
       "2    15308  21.99         False                  0  Hi-Fi Speakers  \n",
       "3     7205  31.99         False                  0  Hi-Fi Speakers  \n",
       "4     1881  17.99         False                  0  Hi-Fi Speakers  "
      ]
     },
     "execution_count": 9,
     "metadata": {},
     "output_type": "execute_result"
    }
   ],
   "source": [
    "api = KaggleApi()\n",
    "api.authenticate()\n",
    "\n",
    "# Download the dataset using the Kaggle API\n",
    "api.dataset_download_files('asaniczka/uk-optimal-product-price-prediction', path='.', unzip=True)\n",
    "\n",
    "# Read CSV file using pandas\n",
    "import pandas as pd\n",
    "df = pd.read_csv('amz_uk_price_prediction_dataset.csv')\n",
    "\n",
    "# Show the first columns of the dataframe\n",
    "df.head(5)"
   ]
  },
  {
   "cell_type": "code",
   "execution_count": 10,
   "metadata": {},
   "outputs": [
    {
     "name": "stdout",
     "output_type": "stream",
     "text": [
      "<class 'pandas.core.frame.DataFrame'>\n",
      "RangeIndex: 2443651 entries, 0 to 2443650\n",
      "Data columns (total 9 columns):\n",
      " #   Column             Dtype  \n",
      "---  ------             -----  \n",
      " 0   uid                int64  \n",
      " 1   asin               object \n",
      " 2   title              object \n",
      " 3   stars              float64\n",
      " 4   reviews            int64  \n",
      " 5   price              float64\n",
      " 6   isBestSeller       bool   \n",
      " 7   boughtInLastMonth  int64  \n",
      " 8   category           object \n",
      "dtypes: bool(1), float64(2), int64(3), object(3)\n",
      "memory usage: 151.5+ MB\n"
     ]
    }
   ],
   "source": [
    "df.info()"
   ]
  },
  {
   "cell_type": "markdown",
   "metadata": {},
   "source": [
    "### Part 1: Understanding Product Categories\n",
    "\n",
    "**Business Question**: What are the most popular product categories on Amazon UK, and how do they compare in terms of listing frequency?"
   ]
  },
  {
   "cell_type": "markdown",
   "metadata": {},
   "source": [
    "1. **Frequency Tables**:\n",
    "    - Generate a frequency table for the product `category`.\n",
    "    - Which are the top 5 most listed product categories?"
   ]
  },
  {
   "cell_type": "code",
   "execution_count": 17,
   "metadata": {},
   "outputs": [],
   "source": [
    "# Create a frequency table\n",
    "category_freq_table = df['category'].value_counts()"
   ]
  },
  {
   "cell_type": "code",
   "execution_count": 19,
   "metadata": {},
   "outputs": [
    {
     "data": {
      "text/plain": [
       "category\n",
       "Sports & Outdoors                         836265\n",
       "Beauty                                     19312\n",
       "Handmade Clothing, Shoes & Accessories     19229\n",
       "Bath & Body                                19092\n",
       "Birthday Gifts                             18978\n",
       "Name: count, dtype: int64"
      ]
     },
     "execution_count": 19,
     "metadata": {},
     "output_type": "execute_result"
    }
   ],
   "source": [
    "# Select the top 5 categories\n",
    "\n",
    "top_5_categories = category_freq_table.sort_values(ascending=False).head(5)\n",
    "top_5_categories"
   ]
  },
  {
   "cell_type": "markdown",
   "metadata": {},
   "source": [
    "2. **Visualizations**:\n",
    "    - Display the distribution of products across different categories using a bar chart. *If you face problems understanding the chart, do it for a subset of top categories.*\n",
    "    - For a subset of top categories, visualize their proportions using a pie chart. Does any category dominate the listings?"
   ]
  },
  {
   "cell_type": "code",
   "execution_count": 25,
   "metadata": {},
   "outputs": [
    {
     "name": "stderr",
     "output_type": "stream",
     "text": [
      "C:\\Users\\almuo\\AppData\\Local\\Temp\\ipykernel_5976\\3595170881.py:3: FutureWarning: \n",
      "\n",
      "Passing `palette` without assigning `hue` is deprecated and will be removed in v0.14.0. Assign the `x` variable to `hue` and set `legend=False` for the same effect.\n",
      "\n",
      "  sns.barplot(x=top_5_categories.index, y=top_5_categories.values, palette=\"Set3\")\n"
     ]
    },
    {
     "data": {
      "text/plain": [
       "<Axes: xlabel='category'>"
      ]
     },
     "execution_count": 25,
     "metadata": {},
     "output_type": "execute_result"
    },
    {
     "data": {
      "image/png": "[encoded data removed]",
      "text/plain": [
       "<Figure size 1400x600 with 1 Axes>"
      ]
     },
     "metadata": {},
     "output_type": "display_data"
    }
   ],
   "source": [
    "#Create the barplot\n",
    "plt.figure(figsize=(14, 6))\n",
    "sns.barplot(x=top_5_categories.index, y=top_5_categories.values, palette=\"Set3\")"
   ]
  },
  {
   "cell_type": "code",
   "execution_count": 28,
   "metadata": {},
   "outputs": [
    {
     "data": {
      "text/plain": [
       "<Axes: ylabel='count'>"
      ]
     },
     "execution_count": 28,
     "metadata": {},
     "output_type": "execute_result"
    },
    {
     "data": {
      "image/png": "[encoded data removed]",
      "text/plain": [
       "<Figure size 1000x1200 with 1 Axes>"
      ]
     },
     "metadata": {},
     "output_type": "display_data"
    }
   ],
   "source": [
    "#Create the pie chart\n",
    "plt.figure(figsize=(10, 12))\n",
    "top_5_categories.plot.pie(autopct='%1.1f%%', startangle=90, colors=sns.color_palette(\"Set3\"))"
   ]
  },
  {
   "cell_type": "markdown",
   "metadata": {},
   "source": [
    "### Part 2: Delving into Product Pricing\n",
    "\n",
    "**Business Question**: How are products priced on Amazon UK, and are there specific price points or ranges that are more common?"
   ]
  },
  {
   "cell_type": "markdown",
   "metadata": {},
   "source": [
    "1. **Measures of Centrality**:\n",
    "    - Calculate the mean, median, and mode for the `price` of products.\n",
    "    - What's the average price point of products listed? How does this compare with the most common price point (mode)?"
   ]
  },
  {
   "cell_type": "code",
   "execution_count": 32,
   "metadata": {},
   "outputs": [
    {
     "data": {
      "text/plain": [
       "(89.24380943923663, 19.09, 9.99)"
      ]
     },
     "execution_count": 32,
     "metadata": {},
     "output_type": "execute_result"
    }
   ],
   "source": [
    "#Calculate the mean, median, and mode for the `price` of products.\n",
    "\n",
    "mean_price = df['price'].mean()\n",
    "median_price = df['price'].median()\n",
    "mode_price = df['price'].mode()[0]\n",
    "\n",
    "mean_price, median_price, mode_price"
   ]
  },
  {
   "cell_type": "markdown",
   "metadata": {},
   "source": [
    "- The mean price of products is 89.24, while the mode (most common price) is 9.99, which is much lower. This indicates that the distribution is right-skewed, meaning there are a few higher-priced products pulling the average up. Most products have lower prices, but the long tail of expensive products distorts the mean upwards."
   ]
  },
  {
   "cell_type": "markdown",
   "metadata": {},
   "source": [
    "2. **Measures of Dispersion**:\n",
    "    - Determine the variance, standard deviation, range, and interquartile range for product `price`.\n",
    "    - How varied are the product prices? Are there any indicators of a significant spread in prices?"
   ]
  },
  {
   "cell_type": "code",
   "execution_count": 37,
   "metadata": {},
   "outputs": [
    {
     "data": {
      "text/plain": [
       "(119445.48532256528,\n",
       " 345.60886175352226,\n",
       " 100000.0,\n",
       " 0.25     9.99\n",
       " 0.50    19.09\n",
       " 0.75    45.99\n",
       " Name: price, dtype: float64)"
      ]
     },
     "execution_count": 37,
     "metadata": {},
     "output_type": "execute_result"
    }
   ],
   "source": [
    "#Calculate the variance, standard deviation, range and interquartile for the 'price' column\n",
    "variance_price = df['price'].var()\n",
    "std_dev_price = df['price'].std()\n",
    "min_price = df['price'].min()\n",
    "max_price = df['price'].max()\n",
    "range_price = max_price - min_price\n",
    "quantiles_price = df['price'].quantile([0.25, 0.5, 0.75])\n",
    "\n",
    "variance_price, std_dev_price, range_price, quantiles_price"
   ]
  },
  {
   "cell_type": "markdown",
   "metadata": {},
   "source": [
    "- The variance is 119445.49 and the standard deviation is 345.61. Both are high, indicating that prices are widely spread from the mean.\n",
    "- Also, the range of prices is 100000, showing a wide gap between the lowest and highest prices.\n",
    "- In addition, from 9.99 at the 25th percentile to 45.99 at the 75th percentile, means that 50% of the products are priced in a small range, but there are some very high-priced outliers."
   ]
  },
  {
   "cell_type": "markdown",
   "metadata": {},
   "source": [
    "3. **Visualizations**:\n",
    "    - Is there a specific price range where most products fall? Plot a histogram to visualize the distribution of product prices. *If its hard to read these diagrams, think why this is, and explain how it could be solved.*.\n",
    "    - Are there products that are priced significantly higher than the rest? Use a box plot to showcase the spread and potential outliers in product pricing. "
   ]
  },
  {
   "cell_type": "code",
   "execution_count": null,
   "metadata": {},
   "outputs": [],
   "source": []
  },
  {
   "cell_type": "markdown",
   "metadata": {},
   "source": [
    "### Part 3: Unpacking Product Ratings\n",
    "\n",
    "**Business Question**: How do customers rate products on Amazon UK, and are there any patterns or tendencies in the ratings?"
   ]
  },
  {
   "cell_type": "markdown",
   "metadata": {},
   "source": [
    "1. **Measures of Centrality**:\n",
    "    - Calculate the mean, median, and mode for the `rating` of products.\n",
    "    - How do customers generally rate products? Is there a common trend?"
   ]
  },
  {
   "cell_type": "code",
   "execution_count": null,
   "metadata": {},
   "outputs": [],
   "source": []
  },
  {
   "cell_type": "markdown",
   "metadata": {},
   "source": [
    "2. **Measures of Dispersion**:\n",
    "    - Determine the variance, standard deviation, and interquartile range for product `rating`.\n",
    "    - Are the ratings consistent, or is there a wide variation in customer feedback?"
   ]
  },
  {
   "cell_type": "code",
   "execution_count": null,
   "metadata": {},
   "outputs": [],
   "source": []
  },
  {
   "cell_type": "markdown",
   "metadata": {},
   "source": [
    "3. **Shape of the Distribution**:\n",
    "    - Calculate the skewness and kurtosis for the `rating` column. \n",
    "    - Are the ratings normally distributed, or do they lean towards higher or lower values?"
   ]
  },
  {
   "cell_type": "markdown",
   "metadata": {},
   "source": []
  },
  {
   "cell_type": "markdown",
   "metadata": {},
   "source": [
    "4. **Visualizations**:\n",
    "    - Plot a histogram to visualize the distribution of product ratings. Is there a specific rating that is more common?"
   ]
  },
  {
   "cell_type": "code",
   "execution_count": null,
   "metadata": {},
   "outputs": [],
   "source": []
  }
 ],
 "metadata": {
  "kernelspec": {
   "display_name": "base",
   "language": "python",
   "name": "python3"
  },
  "language_info": {
   "codemirror_mode": {
    "name": "ipython",
    "version": 3
   },
   "file_extension": ".py",
   "mimetype": "text/x-python",
   "name": "python",
   "nbconvert_exporter": "python",
   "pygments_lexer": "ipython3",
   "version": "3.12.4"
  }
 },
 "nbformat": 4,
 "nbformat_minor": 2
}
